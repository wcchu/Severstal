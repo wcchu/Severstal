{
 "cells": [
  {
   "cell_type": "code",
   "execution_count": 1,
   "metadata": {},
   "outputs": [],
   "source": [
    "import tensorflow as tf\n",
    "import cv2\n",
    "import glob\n",
    "import random\n",
    "import numpy as np\n",
    "import pandas as pd\n",
    "import csv\n",
    "import time\n",
    "import matplotlib.pyplot as plt\n",
    "import matplotlib.image as mpimg"
   ]
  },
  {
   "cell_type": "markdown",
   "metadata": {},
   "source": [
    "# Preprocess masks"
   ]
  },
  {
   "cell_type": "markdown",
   "metadata": {},
   "source": [
    "### marker-to-mask converter"
   ]
  },
  {
   "cell_type": "code",
   "execution_count": 2,
   "metadata": {},
   "outputs": [],
   "source": [
    "def make_mask(marker_string, nv, nh):\n",
    "    # initial mask is empty 1D array\n",
    "    mask = np.zeros(nv * nh)\n",
    "    \n",
    "    # if markers exist, add detect part according to markers\n",
    "    if len(marker_string) > 0:\n",
    "        markers = np.array(marker_string.split(' ')).reshape(-1, 2)\n",
    "        for marker in markers:\n",
    "            start = int(marker[0])\n",
    "            length = int(marker[1])\n",
    "            mask[start: start+length] = 1.0\n",
    "            \n",
    "    mask = np.reshape(mask, (nv, nh))\n",
    "\n",
    "    return mask            "
   ]
  },
  {
   "cell_type": "markdown",
   "metadata": {},
   "source": [
    "### extract the first N image IDs and their masks"
   ]
  },
  {
   "cell_type": "code",
   "execution_count": 3,
   "metadata": {},
   "outputs": [
    {
     "name": "stdout",
     "output_type": "stream",
     "text": [
      "CSV header: ['ImageId_ClassId', 'EncodedPixels']\n"
     ]
    }
   ],
   "source": [
    "N = 1000\n",
    "D0 = 256\n",
    "D1 = 1600\n",
    "\n",
    "train_mask_file = \"data/train.csv\"\n",
    "\n",
    "with open(train_mask_file, \"r\", newline=\"\") as f:\n",
    "    reader = csv.reader(f)\n",
    "    header = next(reader)\n",
    "    print(\"CSV header: {}\".format(header))\n",
    "    \n",
    "    masks = dict()\n",
    "    for i, row in enumerate(reader):\n",
    "        if i < N:\n",
    "            # read image id and defect type\n",
    "            img_id, defect_type = row[0].split('.jpg_')\n",
    "        \n",
    "            # process mask\n",
    "            mask_marker_string = row[1]\n",
    "            mask = make_mask(mask_marker_string, D0, D1)\n",
    "        \n",
    "            if img_id in masks:\n",
    "                # if \"masks\" already has this image's mask(s), add this mask to the right channel\n",
    "                masks[img_id][:, :, int(defect_type) - 1] = mask\n",
    "            else:\n",
    "                # if \"masks\" doesn't contain this image's info, create a 4-channel mask with zeros\n",
    "                masks[img_id] = np.zeros((D0, D1, 4))  # dict({defect_type: mask})"
   ]
  },
  {
   "cell_type": "code",
   "execution_count": 4,
   "metadata": {},
   "outputs": [
    {
     "name": "stdout",
     "output_type": "stream",
     "text": [
      "052cc2a0f\n",
      "[[[0. 0. 0. 0.]\n",
      "  [0. 0. 0. 0.]\n",
      "  [0. 0. 0. 0.]\n",
      "  ...\n",
      "  [0. 0. 0. 0.]\n",
      "  [0. 0. 0. 0.]\n",
      "  [0. 0. 0. 0.]]\n",
      "\n",
      " [[0. 0. 0. 0.]\n",
      "  [0. 0. 0. 0.]\n",
      "  [0. 0. 0. 0.]\n",
      "  ...\n",
      "  [0. 0. 0. 0.]\n",
      "  [0. 0. 0. 0.]\n",
      "  [0. 0. 0. 0.]]\n",
      "\n",
      " [[0. 0. 0. 0.]\n",
      "  [0. 0. 0. 0.]\n",
      "  [0. 0. 0. 0.]\n",
      "  ...\n",
      "  [0. 0. 0. 0.]\n",
      "  [0. 0. 0. 0.]\n",
      "  [0. 0. 0. 0.]]\n",
      "\n",
      " ...\n",
      "\n",
      " [[0. 0. 0. 0.]\n",
      "  [0. 0. 0. 0.]\n",
      "  [0. 0. 0. 0.]\n",
      "  ...\n",
      "  [0. 0. 0. 0.]\n",
      "  [0. 0. 0. 0.]\n",
      "  [0. 0. 0. 0.]]\n",
      "\n",
      " [[0. 0. 0. 0.]\n",
      "  [0. 0. 0. 0.]\n",
      "  [0. 0. 0. 0.]\n",
      "  ...\n",
      "  [0. 0. 0. 0.]\n",
      "  [0. 0. 0. 0.]\n",
      "  [0. 0. 0. 0.]]\n",
      "\n",
      " [[0. 0. 0. 0.]\n",
      "  [0. 0. 0. 0.]\n",
      "  [0. 0. 0. 0.]\n",
      "  ...\n",
      "  [0. 0. 0. 0.]\n",
      "  [0. 0. 0. 0.]\n",
      "  [0. 0. 0. 0.]]]\n"
     ]
    }
   ],
   "source": [
    "random.seed(2)\n",
    "img_id_0 = random.choice(list(masks.keys()))\n",
    "print(img_id_0)\n",
    "print(masks[img_id_0])"
   ]
  },
  {
   "cell_type": "markdown",
   "metadata": {},
   "source": [
    "# Preprocess training images"
   ]
  },
  {
   "cell_type": "code",
   "execution_count": 5,
   "metadata": {},
   "outputs": [
    {
     "name": "stdout",
     "output_type": "stream",
     "text": [
      "data/train_images/052cc2a0f.jpg\n"
     ]
    }
   ],
   "source": [
    "train_img_dir = 'data/train_images/'\n",
    "train_img_suffix = '.jpg'\n",
    "\n",
    "def get_image(img_id):\n",
    "    image_path = train_img_dir + img_id + train_img_suffix\n",
    "    print(image_path)\n",
    "    # import image\n",
    "    image = mpimg.imread(image_path)\n",
    "    # pick just one channel and normalize\n",
    "    image = tf.cast(image[:, :, 0], tf.float32)/255.0\n",
    "    return image\n",
    "\n",
    "image_0 = get_image(img_id_0)"
   ]
  },
  {
   "cell_type": "code",
   "execution_count": 6,
   "metadata": {},
   "outputs": [
    {
     "data": {
      "text/plain": [
       "<matplotlib.image.AxesImage at 0x7f26019b2f28>"
      ]
     },
     "execution_count": 6,
     "metadata": {},
     "output_type": "execute_result"
    },
    {
     "data": {
      "image/png": "[encoded data removed]",
      "text/plain": [
       "<Figure size 432x288 with 1 Axes>"
      ]
     },
     "metadata": {
      "needs_background": "light"
     },
     "output_type": "display_data"
    }
   ],
   "source": [
    "plt.imshow(image_0)"
   ]
  },
  {
   "cell_type": "code",
   "execution_count": 7,
   "metadata": {},
   "outputs": [
    {
     "data": {
      "text/plain": [
       "<matplotlib.image.AxesImage at 0x7f26019b2e10>"
      ]
     },
     "execution_count": 7,
     "metadata": {},
     "output_type": "execute_result"
    },
    {
     "data": {
      "image/png": "[encoded data removed]",
      "text/plain": [
       "<Figure size 432x288 with 1 Axes>"
      ]
     },
     "metadata": {
      "needs_background": "light"
     },
     "output_type": "display_data"
    }
   ],
   "source": [
    "plt.imshow(masks[img_id_0])"
   ]
  }
 ],
 "metadata": {
  "kernelspec": {
   "display_name": "Python 3",
   "language": "python",
   "name": "python3"
  },
  "language_info": {
   "codemirror_mode": {
    "name": "ipython",
    "version": 3
   },
   "file_extension": ".py",
   "mimetype": "text/x-python",
   "name": "python",
   "nbconvert_exporter": "python",
   "pygments_lexer": "ipython3",
   "version": "3.7.3"
  }
 },
 "nbformat": 4,
 "nbformat_minor": 2
}
