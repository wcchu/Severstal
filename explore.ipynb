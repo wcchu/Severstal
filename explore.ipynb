{
 "cells": [
  {
   "cell_type": "code",
   "execution_count": null,
   "metadata": {},
   "outputs": [],
   "source": [
    "import tensorflow as tf\n",
    "import cv2\n",
    "import glob\n",
    "import random\n",
    "import IPython.display as display\n",
    "import numpy as np\n",
    "import pandas as pd\n",
    "import csv\n",
    "import time"
   ]
  },
  {
   "cell_type": "code",
   "execution_count": null,
   "metadata": {},
   "outputs": [],
   "source": [
    "train_img_dir = 'data/train_images/'\n",
    "train_img_suffix = '.jpg'\n",
    "\n",
    "all_image_paths = list(glob.glob(train_img_dir + '*' + train_img_suffix))\n",
    "random.shuffle(all_image_paths)\n",
    "\n",
    "image_count = len(all_image_paths)\n",
    "print(image_count)"
   ]
  },
  {
   "cell_type": "code",
   "execution_count": null,
   "metadata": {},
   "outputs": [],
   "source": [
    "for n in range(3):\n",
    "    image_path = random.choice(all_image_paths)\n",
    "    image_name = image_path.strip(train_img_dir).strip(train_img_suffix)\n",
    "    print(\"image id = {}\".format(image_name))\n",
    "    display.display(display.Image(image_path))\n",
    "    print()"
   ]
  },
  {
   "cell_type": "code",
   "execution_count": null,
   "metadata": {},
   "outputs": [],
   "source": [
    "def get_image(image_path):\n",
    "    image_id = image_path.strip(train_img_dir).strip(train_img_suffix)\n",
    "    # import image\n",
    "    image = tf.io.read_file(image_path)\n",
    "    # decode\n",
    "    image = tf.image.decode_image(image)\n",
    "    # no resizing\n",
    "    # pick just one channel; normalize\n",
    "    image = tf.cast(image[:, :, 0], tf.float32)/255.0\n",
    "    return image_id, image"
   ]
  },
  {
   "cell_type": "code",
   "execution_count": null,
   "metadata": {},
   "outputs": [],
   "source": [
    "img_id, img = get_image(all_image_paths[0])"
   ]
  },
  {
   "cell_type": "code",
   "execution_count": null,
   "metadata": {},
   "outputs": [],
   "source": [
    "img_id"
   ]
  },
  {
   "cell_type": "code",
   "execution_count": null,
   "metadata": {},
   "outputs": [],
   "source": [
    "img"
   ]
  },
  {
   "cell_type": "code",
   "execution_count": null,
   "metadata": {},
   "outputs": [],
   "source": [
    "def make_mask(marker_string, n):\n",
    "    # initial mask is empty 1D array\n",
    "    mask = np.zeros(n)\n",
    "    \n",
    "    # if markers exist, add detect part according to markers\n",
    "    if len(marker_string) > 0:\n",
    "        markers = np.array(marker_string.split(' ')).reshape(-1, 2)\n",
    "        for marker in markers:\n",
    "            start = int(marker[0])\n",
    "            length = int(marker[1])\n",
    "            mask[start: start+length] = 1.0\n",
    "\n",
    "    return mask            "
   ]
  },
  {
   "cell_type": "code",
   "execution_count": null,
   "metadata": {},
   "outputs": [],
   "source": [
    "train_mask_file = \"data/train.csv\"\n",
    "\n",
    "with open(train_mask_file, \"r\", newline=\"\") as f:\n",
    "    reader = csv.reader(f)\n",
    "    header = next(reader)\n",
    "    print(\"CSV header: {}\".format(header))\n",
    "    \n",
    "    masks = dict()\n",
    "    for row in reader:\n",
    "        # read image id and defect type\n",
    "        img_id, defect_type = row[0].split('.jpg_')\n",
    "        \n",
    "        # process mask\n",
    "        mask_marker_string = row[1]\n",
    "        mask = make_mask(mask_marker_string, 256*1600)\n",
    "        \n",
    "        if img_id in masks:\n",
    "            masks[img_id][defect_type] = mask\n",
    "        else:\n",
    "            masks[img_id] = dict({defect_type: mask})"
   ]
  }
 ],
 "metadata": {
  "kernelspec": {
   "display_name": "Python 3",
   "language": "python",
   "name": "python3"
  },
  "language_info": {
   "codemirror_mode": {
    "name": "ipython",
    "version": 3
   },
   "file_extension": ".py",
   "mimetype": "text/x-python",
   "name": "python",
   "nbconvert_exporter": "python",
   "pygments_lexer": "ipython3",
   "version": "3.7.3"
  }
 },
 "nbformat": 4,
 "nbformat_minor": 2
}
